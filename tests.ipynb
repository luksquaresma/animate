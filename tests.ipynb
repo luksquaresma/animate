{
 "cells": [
  {
   "cell_type": "code",
   "execution_count": null,
   "metadata": {},
   "outputs": [],
   "source": [
    "import json, sys\n",
    "import numpy as np\n",
    "import matplotlib.pyplot as plt"
   ]
  },
  {
   "cell_type": "code",
   "execution_count": null,
   "metadata": {},
   "outputs": [],
   "source": [
    "def insert_shape(shape, position, size, loc):\n",
    "    \n",
    "\n",
    "    \n"
   ]
  },
  {
   "cell_type": "code",
   "execution_count": null,
   "metadata": {},
   "outputs": [],
   "source": [
    "figparams = dict(\n",
    "    figsize=(16, 9), # in mm\n",
    "    dpi=200\n",
    ")"
   ]
  },
  {
   "cell_type": "code",
   "execution_count": null,
   "metadata": {},
   "outputs": [],
   "source": [
    "globals()[\"element_config\"].items()"
   ]
  },
  {
   "cell_type": "code",
   "execution_count": null,
   "metadata": {},
   "outputs": [],
   "source": [
    "class Element():\n",
    "    # this is a polymorphic class intended to represent \n",
    "    # all the possible elements inside a diagram\n",
    "    def __init__(self, element_type, element_properties):\n",
    "\n",
    "        self.type = element_type        \n",
    "        \n",
    "        # loading of standard config file\n",
    "        if \"element_config\" not in globals():\n",
    "            with open(\"./elements.json\", \"r\") as file:\n",
    "                globals()[\"element_config\"] = dict(json.load(file))\n",
    "        _config = globals()[\"element_config\"]\n",
    "\n",
    "        # element dimention definition\n",
    "        def find_element_dimensions(element_type):\n",
    "            _keys = [k for (k, v) in _config[\"dimension\"].items() if element_type in v]\n",
    "            if len(_keys) == 1:\n",
    "                return _keys[0]\n",
    "            else:\n",
    "                sys.exit(\"Panic: Stopping the program!\") \n",
    "        self.dimension = find_element_dimensions(element_type)\n",
    "\n",
    "        # property difeinition\n",
    "        if all(\n",
    "            #checks if all properties are present\n",
    "            k in _config[\"dimension_properties\"][self.dimension]\n",
    "            for k in element_properties.keys()\n",
    "        ):\n",
    "            for key in _config[\"dimension_properties\"][self.dimension]:\n",
    "                try:\n",
    "                    setattr(self, key, element_properties[key])\n",
    "                except Exception as E:\n",
    "                    print(\"Error on element definition:\")\n",
    "                    print(E)\n",
    "                    raise\n",
    "        else:\n",
    "            raise ValueError(\"Missing element properties!\")\n",
    "\n",
    "    def plot_on(self, fig, ax):\n",
    "        match self.dimension:\n",
    "            case \"0D\":\n",
    "                return plt.scatter(x=self.position[0], y=self.position[1], color=\"k\")\n",
    "            case \"1D\":\n",
    "                match self.type:\n",
    "                    case \"line\":\n",
    "                        return plt.plot(\n",
    "                            [self.start[0], self.end[0]],\n",
    "                            [self.start[1], self.end[1]],\n",
    "                            color=\"k\",\n",
    "                            )\n",
    "                    case \"arrow\":\n",
    "                        return plt.arrow(\n",
    "                            x=self.start[0],\n",
    "                            y=self.start[1], \n",
    "                            dx=(self.end[0] - self.start[0]),\n",
    "                            dy=(self.end[1] - self.start[1]),\n",
    "                            color=\"k\",\n",
    "                            length_includes_head=True,\n",
    "                            head_width=0.03,\n",
    "                            capstyle=\"round\"\n",
    "                            )\n",
    "            #     return plt.\n",
    "            # case \"2D\":"
   ]
  },
  {
   "cell_type": "code",
   "execution_count": null,
   "metadata": {},
   "outputs": [],
   "source": [
    "fig, ax = plt.subplots(figsize=figparams[\"figsize\"], dpi=figparams['dpi'])\n",
    "ax = [\n",
    "    Element(\"point\", {\"position\":(1, 1)}).plot_on(fig, ax),\n",
    "    Element(\"point\", {\"position\":(2, 1)}).plot_on(fig, ax),\n",
    "    Element(\"point\", {\"position\":(1, 2)}).plot_on(fig, ax),\n",
    "    Element(\"arrow\", {\"start\":(1.5, 2.5), \"end\":(2.4, 3.2)}).plot_on(fig, ax),\n",
    "    Element(\"line\", {\"start\":(0, 1), \"end\":(1, 1)}).plot_on(fig, ax),\n",
    "]\n"
   ]
  },
  {
   "cell_type": "code",
   "execution_count": null,
   "metadata": {},
   "outputs": [],
   "source": []
  },
  {
   "cell_type": "code",
   "execution_count": null,
   "metadata": {},
   "outputs": [],
   "source": [
    "element_dimentions = {\n",
    "    0: [\"dot\"],\n",
    "    1: [\"line\", \"arrow\", \"double_arrow\"],\n",
    "    2: [\"circle\", \"square\", \"losangle\", \"elipse\", \"triangle\", \"rectangle\"]\n",
    "}\n"
   ]
  },
  {
   "cell_type": "code",
   "execution_count": null,
   "metadata": {},
   "outputs": [],
   "source": [
    "ddd = key(\"arrow\")"
   ]
  },
  {
   "cell_type": "code",
   "execution_count": null,
   "metadata": {},
   "outputs": [],
   "source": []
  },
  {
   "cell_type": "code",
   "execution_count": null,
   "metadata": {},
   "outputs": [],
   "source": [
    "key = lambda t: [\n",
    "    keys[0] if len(keys) == 1 else -1\n",
    "    for \n",
    "    keys as [k for (k, v) in element_dimentions.items() if t in v]\n",
    "]\n"
   ]
  },
  {
   "cell_type": "code",
   "execution_count": null,
   "metadata": {},
   "outputs": [],
   "source": [
    "def element(element_type, element_data):\n",
    "    match element_type:\n",
    "        case \"arrow\":\n",
    "        case \"circle\":\n",
    "        "
   ]
  },
  {
   "cell_type": "code",
   "execution_count": null,
   "metadata": {},
   "outputs": [],
   "source": [
    "[\n",
    "    {\n",
    "        \"f\"=0,\n",
    "        \"elements\"=[figparams]\n",
    "    }\n",
    "]"
   ]
  },
  {
   "cell_type": "code",
   "execution_count": null,
   "metadata": {},
   "outputs": [],
   "source": [
    "fig, ax = blank_diagram()\n",
    "\n"
   ]
  },
  {
   "cell_type": "code",
   "execution_count": null,
   "metadata": {},
   "outputs": [],
   "source": [
    "fig, ax = blank_diagram()\n",
    "\n",
    "centers = [(3.5, 6.5), (8, 6.5), (12.5, 6.5), (8, 2.5)]\n",
    "radii = 1.5\n",
    "texts = [\n",
    "    \"\\n\".join([\"My roommate\", \"is a Philistine\", \"and a boor\"]),\n",
    "    \"\\n\".join([\"My roommate\", \"ate the last\", \"of the\", \"cold cereal\"]),\n",
    "    \"\\n\".join([\"I am really\", \"really hungy\"]),\n",
    "    \"\\n\".join([\"I'm annoyed\", \"at my roommate\"]),\n",
    "]\n",
    "\n",
    "# Draw circles with text in the center\n",
    "\n",
    "for i, center in enumerate(centers):\n",
    "    x, y = center\n",
    "    theta = np.linspace(0, 2 * np.pi, 100)\n",
    "    ax.plot(\n",
    "        x + radii * np.cos(theta),\n",
    "        y + radii * np.sin(theta),\n",
    "        color=\"midnightblue\",\n",
    "    )\n",
    "    ax.text(\n",
    "        x, y,\n",
    "        texts[i],\n",
    "        horizontalalignment=\"center\",\n",
    "        verticalalignment=\"center\",\n",
    "        color=\"midnightblue\",\n",
    "    )\n",
    "\n",
    "# Draw arrows connecting them\n",
    "\n",
    "# https://e2eml.school/matplotlib_text.html#annotate\n",
    "\n",
    "ax.annotate(\n",
    "    \"\",\n",
    "    (centers[1][0] - radii, centers[1][1]),\n",
    "    (centers[0][0] + radii, centers[0][1]),\n",
    "    arrowprops=dict(arrowstyle = \"-|>\"),\n",
    ")\n",
    "ax.annotate(\n",
    "    \"\",\n",
    "    (centers[2][0] - radii, centers[2][1]),\n",
    "    (centers[1][0] + radii, centers[1][1]),\n",
    "    arrowprops=dict(arrowstyle = \"-|>\"),\n",
    ")\n",
    "ax.annotate(\n",
    "    \"\",\n",
    "    (centers[3][0] - .7 * radii, centers[3][1] + .7 * radii),\n",
    "    (centers[0][0] + .7 * radii, centers[0][1] - .7 * radii),\n",
    "    arrowprops=dict(arrowstyle = \"-|>\"),\n",
    ")\n",
    "ax.annotate(\n",
    "    \"\",\n",
    "    (centers[3][0] + .7 * radii, centers[3][1] + .7 * radii),\n",
    "    (centers[2][0] - .7 * radii, centers[2][1] - .7 * radii),\n",
    "    arrowprops=dict(arrowstyle = \"-|>\"),\n",
    ")\n",
    "\n",
    "fig.savefig(\"causal.png\", dpi=300)\n"
   ]
  },
  {
   "cell_type": "code",
   "execution_count": null,
   "metadata": {},
   "outputs": [],
   "source": [
    "fig, ax = plt.subplots(figsize=figparams[\"figsize\"], dpi=figparams['dpi'])\n",
    "ax.scatter([1, 2, 3, 4], [1, 2, 3, 1])\n",
    "fig.show()"
   ]
  },
  {
   "cell_type": "code",
   "execution_count": null,
   "metadata": {},
   "outputs": [],
   "source": []
  }
 ],
 "metadata": {
  "kernelspec": {
   "display_name": "animate-JmGSO6XU",
   "language": "python",
   "name": "python3"
  },
  "language_info": {
   "codemirror_mode": {
    "name": "ipython",
    "version": 3
   },
   "file_extension": ".py",
   "mimetype": "text/x-python",
   "name": "python",
   "nbconvert_exporter": "python",
   "pygments_lexer": "ipython3",
   "version": "3.10.11"
  }
 },
 "nbformat": 4,
 "nbformat_minor": 2
}
